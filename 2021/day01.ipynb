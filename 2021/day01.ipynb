{
 "cells": [
  {
   "cell_type": "code",
   "execution_count": 1,
   "metadata": {},
   "outputs": [],
   "source": [
    "# read depths as int from day1.txt\n",
    "with open('day1.txt', 'r') as f:\n",
    "    depths = [int(x) for x in f.readlines()]\n"
   ]
  },
  {
   "cell_type": "code",
   "execution_count": 2,
   "metadata": {},
   "outputs": [
    {
     "name": "stdout",
     "output_type": "stream",
     "text": [
      "1228\n"
     ]
    }
   ],
   "source": [
    "# To do this, count the number of times a depth measurement increases from the previous measurement. (There is no measurement before the first measurement.) In the example above, the changes are as follows:\n",
    "\n",
    "# 199 (N/A - no previous measurement)\n",
    "# 200 (increased)\n",
    "# 208 (increased)\n",
    "# 210 (increased)\n",
    "# 200 (decreased)\n",
    "# 207 (increased)\n",
    "# 240 (increased)\n",
    "# 269 (increased)\n",
    "# 260 (decreased)\n",
    "# 263 (increased)\n",
    "# In this example, there are 7 measurements that are larger than the previous measurement.\n",
    "# How many measurements are larger than the previous measurement?\n",
    "\n",
    "def count_larger_depths(depths):\n",
    "    count = 0\n",
    "    for i in range(1, len(depths)):\n",
    "        if depths[i] > depths[i-1]:\n",
    "            count += 1\n",
    "    return count\n",
    "print(count_larger_depths(depths))"
   ]
  },
  {
   "cell_type": "code",
   "execution_count": 3,
   "metadata": {},
   "outputs": [
    {
     "name": "stdout",
     "output_type": "stream",
     "text": [
      "1257\n",
      "1257\n"
     ]
    }
   ],
   "source": [
    "#Instead, consider sums of a three-measurement sliding window. Again considering the above example:\n",
    "\n",
    "# 199  A      \n",
    "# 200  A B    \n",
    "# 208  A B C  \n",
    "# 210    B C D\n",
    "# 200  E   C D\n",
    "# 207  E F   D\n",
    "# 240  E F G  \n",
    "# 269    F G H\n",
    "# 260      G H\n",
    "# 263        H\n",
    "# Start by comparing the first and second three-measurement windows. The measurements in the first window are marked A (199, 200, 208); their sum is 199 + 200 + 208 = 607. The second window is marked B (200, 208, 210); its sum is 618. The sum of measurements in the second window is larger than the sum of the first, so this first comparison increased.\n",
    "\n",
    "# Your goal now is to count the number of times the sum of measurements in this sliding window increases from the previous sum. So, compare A with B, then compare B with C, then C with D, and so on. Stop when there aren't enough measurements left to create a new three-measurement sum.\n",
    "\n",
    "# In the above example, the sum of each three-measurement window is as follows:\n",
    "\n",
    "# A: 607 (N/A - no previous sum)\n",
    "# B: 618 (increased)\n",
    "# C: 618 (no change)\n",
    "# D: 617 (decreased)\n",
    "# E: 647 (increased)\n",
    "# F: 716 (increased)\n",
    "# G: 769 (increased)\n",
    "# H: 792 (increased)\n",
    "# In this example, there are 5 sums that are larger than the previous sum.\n",
    "\n",
    "# Consider sums of a three-measurement sliding window. How many sums are larger than the previous sum?\n",
    "\n",
    "def get_sliding_window_sums(depths):\n",
    "    sums = []\n",
    "    for i in range(3, len(depths)+1):\n",
    "        sums.append(sum(depths[i-3:i]))\n",
    "    return sums\n",
    "print(count_larger_depths(get_sliding_window_sums(depths)))\n",
    "def count_larger_sums(depths):\n",
    "    count = 0\n",
    "    for i in range(3, len(depths)):\n",
    "        if sum(depths[i-3:i]) > sum(depths[i-4:i-1]):\n",
    "            count += 1\n",
    "    return count\n",
    "print(count_larger_sums(depths))\n"
   ]
  },
  {
   "cell_type": "code",
   "execution_count": null,
   "metadata": {},
   "outputs": [],
   "source": []
  }
 ],
 "metadata": {
  "interpreter": {
   "hash": "b4910490e8db04fe7e80d0b5f57d113d375880e58fcc8a202fc7742372d78c5d"
  },
  "kernelspec": {
   "display_name": "Python 3",
   "language": "python",
   "name": "python3"
  },
  "language_info": {
   "codemirror_mode": {
    "name": "ipython",
    "version": 3
   },
   "file_extension": ".py",
   "mimetype": "text/x-python",
   "name": "python",
   "nbconvert_exporter": "python",
   "pygments_lexer": "ipython3",
   "version": "3.7.3"
  }
 },
 "nbformat": 4,
 "nbformat_minor": 4
}
