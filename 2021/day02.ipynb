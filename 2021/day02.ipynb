{
 "cells": [
  {
   "cell_type": "code",
   "execution_count": 2,
   "metadata": {},
   "outputs": [],
   "source": [
    "# read commands from day2.txt\n",
    "with open('day2.txt') as f:\n",
    "    commands = f.readlines()"
   ]
  },
  {
   "cell_type": "code",
   "execution_count": 10,
   "metadata": {},
   "outputs": [
    {
     "name": "stdout",
     "output_type": "stream",
     "text": [
      "2091984\n"
     ]
    }
   ],
   "source": [
    "# It seems like the submarine can take a series of commands like forward 1, down 2, or up 3:\n",
    "\n",
    "# forward X increases the horizontal position by X units.\n",
    "# down X increases the depth by X units.\n",
    "# up X decreases the depth by X units.\n",
    "# Note that since you're on a submarine, down and up affect your depth, and so they have the opposite result of what you might expect.\n",
    "\n",
    "# The submarine seems to already have a planned course (your puzzle input). You should probably figure out where it's going. For example:\n",
    "\n",
    "# forward 5\n",
    "# down 5\n",
    "# forward 8\n",
    "# up 3\n",
    "# down 8\n",
    "# forward 2\n",
    "# Your horizontal position and depth both start at 0. The steps above would then modify them as follows:\n",
    "\n",
    "# forward 5 adds 5 to your horizontal position, a total of 5.\n",
    "# down 5 adds 5 to your depth, resulting in a value of 5.\n",
    "# forward 8 adds 8 to your horizontal position, a total of 13.\n",
    "# up 3 decreases your depth by 3, resulting in a value of 2.\n",
    "# down 8 adds 8 to your depth, resulting in a value of 10.\n",
    "# forward 2 adds 2 to your horizontal position, a total of 15.\n",
    "# After following these instructions, you would have a horizontal position of 15 and a depth of 10. (Multiplying these together produces 150.)\n",
    "\n",
    "# Calculate the horizontal position and depth you would have after following the planned course. What do you get if you multiply your final horizontal position by your final depth?\n",
    "def process_command(command, pos, depth):\n",
    "    command1 = command.split(' ')\n",
    "    if command[0] == 'f':\n",
    "        pos += int(command1[1])\n",
    "    elif command[0] == 'd':\n",
    "        depth += int(command1[1])\n",
    "    elif command[0] == 'u':\n",
    "        depth -= int(command1[1])\n",
    "    return (pos, depth)\n",
    "\n",
    "pos = 0\n",
    "depth = 0\n",
    "for command in commands:\n",
    "    pos, depth = process_command(command, pos, depth)\n",
    "\n",
    "print(pos * depth)"
   ]
  },
  {
   "cell_type": "code",
   "execution_count": 11,
   "metadata": {},
   "outputs": [
    {
     "name": "stdout",
     "output_type": "stream",
     "text": [
      "2086261056\n"
     ]
    }
   ],
   "source": [
    "# In addition to horizontal position and depth, you'll also need to track a third value, aim, which also starts at 0. The commands also mean something entirely different than you first thought:\n",
    "\n",
    "# down X increases your aim by X units.\n",
    "# up X decreases your aim by X units.\n",
    "# forward X does two things:\n",
    "# It increases your horizontal position by X units.\n",
    "# It increases your depth by your aim multiplied by X.\n",
    "# Again note that since you're on a submarine, down and up do the opposite of what you might expect: \"down\" means aiming in the positive direction.\n",
    "\n",
    "# Now, the above example does something different:\n",
    "\n",
    "# forward 5 adds 5 to your horizontal position, a total of 5. Because your aim is 0, your depth does not change.\n",
    "# down 5 adds 5 to your aim, resulting in a value of 5.\n",
    "# forward 8 adds 8 to your horizontal position, a total of 13. Because your aim is 5, your depth increases by 8*5=40.\n",
    "# up 3 decreases your aim by 3, resulting in a value of 2.\n",
    "# down 8 adds 8 to your aim, resulting in a value of 10.\n",
    "# forward 2 adds 2 to your horizontal position, a total of 15. Because your aim is 10, your depth increases by 2*10=20 to a total of 60.\n",
    "# After following these new instructions, you would have a horizontal position of 15 and a depth of 60. (Multiplying these produces 900.)\n",
    "\n",
    "# Using this new interpretation of the commands, calculate the horizontal position and depth you would have after following the planned course. What do you get if you multiply your final horizontal position by your final depth?\n",
    "def process_command_2(command, pos, depth, aim):\n",
    "    command1 = command.split(' ')\n",
    "    X = int(command1[1])\n",
    "    if command[0] == 'f':\n",
    "        pos += X\n",
    "        depth += aim * X\n",
    "    elif command[0] == 'd':\n",
    "        aim += X\n",
    "    elif command[0] == 'u':\n",
    "        aim -= X\n",
    "    return (pos, depth, aim)\n",
    "\n",
    "pos = 0\n",
    "depth = 0\n",
    "aim = 0\n",
    "for command in commands:\n",
    "    pos, depth, aim = process_command_2(command, pos, depth, aim)\n",
    "\n",
    "print(pos * depth)"
   ]
  }
 ],
 "metadata": {
  "kernelspec": {
   "display_name": "Python 3",
   "language": "python",
   "name": "python3"
  },
  "language_info": {
   "codemirror_mode": {
    "name": "ipython",
    "version": 3
   },
   "file_extension": ".py",
   "mimetype": "text/x-python",
   "name": "python",
   "nbconvert_exporter": "python",
   "pygments_lexer": "ipython3",
   "version": "3.7.3"
  }
 },
 "nbformat": 4,
 "nbformat_minor": 4
}
