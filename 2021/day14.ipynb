{
 "cells": [
  {
   "cell_type": "code",
   "execution_count": 47,
   "metadata": {},
   "outputs": [],
   "source": [
    "from collections import defaultdict, deque, namedtuple, Counter, OrderedDict, ChainMap, UserDict, UserList, UserString\n",
    "from itertools import chain, combinations, count, cycle, groupby, islice, permutations, product, repeat, starmap, takewhile, tee, zip_longest\n",
    "\n",
    "#read from day14.txt \n",
    "with open('day14.txt') as f:\n",
    "    lines = f.read().splitlines()\n",
    "\n"
   ]
  },
  {
   "cell_type": "code",
   "execution_count": 49,
   "metadata": {},
   "outputs": [
    {
     "name": "stdout",
     "output_type": "stream",
     "text": [
      "Counter({'O': 3578, 'V': 2775, 'B': 2564, 'S': 2242, 'K': 1804, 'C': 1690, 'N': 1429, 'F': 1387, 'P': 997, 'H': 991})\n",
      "2587\n"
     ]
    }
   ],
   "source": [
    "# The submarine manual contains instructions for finding the optimal polymer formula; specifically, it offers a polymer template and a list of pair insertion rules (your puzzle input). You just need to work out what polymer would result after repeating the pair insertion process a few times.\n",
    "\n",
    "# For example:\n",
    "\n",
    "# lines= '''NNCB\n",
    "\n",
    "# CH -> B\n",
    "# HH -> N\n",
    "# CB -> H\n",
    "# NH -> C\n",
    "# HB -> C\n",
    "# HC -> B\n",
    "# HN -> C\n",
    "# NN -> C\n",
    "# BH -> H\n",
    "# NC -> B\n",
    "# NB -> B\n",
    "# BN -> B\n",
    "# BB -> N\n",
    "# BC -> B\n",
    "# CC -> N\n",
    "# CN -> C'''.splitlines()\n",
    "\n",
    "# The first line is the polymer template - this is the starting point of the process.\n",
    "polymer_template = lines[0]\n",
    "\n",
    "# The following section defines the pair insertion rules. A rule like AB -> C means that when elements A and B are immediately adjacent, element C should be inserted between them. These insertions all happen simultaneously.\n",
    "pair_insertion_rules = dict([ l.split(' -> ') for l in lines[2:]])\n",
    "\n",
    "# So, starting with the polymer template NNCB, the first step simultaneously considers all three pairs:\n",
    "\n",
    "# The first pair (NN) matches the rule NN -> C, so element C is inserted between the first N and the second N.\n",
    "# The second pair (NC) matches the rule NC -> B, so element B is inserted between the N and the C.\n",
    "# The third pair (CB) matches the rule CB -> H, so element H is inserted between the C and the B.\n",
    "# Note that these pairs overlap: the second element of one pair is the first element of the next pair. Also, because all pairs are considered simultaneously, inserted elements are not considered to be part of a pair until the next step.\n",
    "# After the first step of this process, the polymer becomes NCNBCHB.\n",
    "def one_step(polymer_template):\n",
    "    new_polymer = []\n",
    "    for indx in range(len(polymer_template) - 1):\n",
    "        pair = polymer_template[indx:indx+2]\n",
    "        if pair not in pair_insertion_rules:\n",
    "            print(\"Error:\", pair, \"is not in pair_insertion_rules\")\n",
    "            continue\n",
    "        else:\n",
    "            new_polymer.append(polymer_template[indx])\n",
    "            new_polymer.append(pair_insertion_rules[pair])\n",
    "    new_polymer.append(polymer_template[-1])\n",
    "    return ''.join(new_polymer)\n",
    "# for i in range(4):\n",
    "#     polymer_template = one_step(polymer_template)\n",
    "#     print(i, polymer_template)\n",
    "# Here are the results of a few steps using the above rules:\n",
    "\n",
    "# Template:     NNCB\n",
    "# After step 1: NCNBCHB\n",
    "# After step 2: NBCCNBBBCBHCB\n",
    "# After step 3: NBBBCNCCNBBNBNBBCHBHHBCHB\n",
    "# After step 4: NBBNBNBBCCNBCNCCNBBNBBNBBBNBBNBBCBHCBHHNHCBBCBHCB\n",
    "# This polymer grows quickly. After step 5, it has length 97; After step 10, it has length 3073. After step 10, B occurs 1749 times, C occurs 298 times, H occurs 161 times, and N occurs 865 times; taking the quantity of the most common element (B, 1749) and subtracting the quantity of the least common element (H, 161) produces 1749 - 161 = 1588.\n",
    "\n",
    "# Apply 10 steps of pair insertion to the polymer template and find the most and least common elements in the result. What do you get if you take the quantity of the most common element and subtract the quantity of the least common element?\n",
    "for i in range(10):\n",
    "    polymer_template = one_step(polymer_template)\n",
    "    pairs = [polymer_template[indx:indx+2] for indx in range(len(polymer_template) - 1)]\n",
    "    #print(Counter(pairs).most_common())\n",
    "ct = Counter(polymer_template)\n",
    "first_ct = ct.most_common(1)[0]\n",
    "last_ct = ct.most_common()[-1]\n",
    "#first - last\n",
    "print(ct)\n",
    "print(first_ct[1] - last_ct[1])"
   ]
  },
  {
   "cell_type": "code",
   "execution_count": 75,
   "metadata": {},
   "outputs": [
    {
     "name": "stdout",
     "output_type": "stream",
     "text": [
      "Counter({'O': 8251341343650, 'V': 5677733157938, 'B': 5245780807176, 'S': 4961031240456, 'K': 4006634685742, 'C': 3779281777554, 'F': 3279044391156, 'N': 3058330869382, 'P': 1908597365026, 'H': 1613666217406})\n",
      "3318837563123\n"
     ]
    }
   ],
   "source": [
    "# --- Part Two ---\n",
    "# The resulting polymer isn't nearly strong enough to reinforce the submarine. You'll need to run more steps of the pair insertion process; a total of 40 steps should do it.\n",
    "\n",
    "# In the above example, the most common element is B (occurring 2192039569602 times) and the least common element is H (occurring 3849876073 times); subtracting these produces 2188189693529.\n",
    "\n",
    "# Apply 40 steps of pair insertion to the polymer template and find the most and least common elements in the result. What do you get if you take the quantity of the most common element and subtract the quantity of the least common element?\n",
    "polymer_template = lines[0]\n",
    "pairs = [polymer_template[indx:indx+2] for indx in range(len(polymer_template) - 1)]\n",
    "polymer_counter = dict(Counter(pairs))\n",
    "def one_step_counter(polymer_counter):\n",
    "    new_cont = dict()\n",
    "    for pair, count in polymer_counter.items():\n",
    "        insert = pair_insertion_rules[pair]\n",
    "        first_pair = pair[0]+insert\n",
    "        second_pair = insert+pair[1]\n",
    "        new_cont[first_pair] = count + new_cont.get(first_pair, 0)\n",
    "        new_cont[second_pair] = count + new_cont.get(second_pair, 0)\n",
    "    return new_cont\n",
    "\n",
    "for i in range(40):\n",
    "    polymer_counter = one_step_counter(polymer_counter)\n",
    "\n",
    "#pair counter to singel counter\n",
    "def pair_counter_to_single_counter(polymer_counter, polymer_template):\n",
    "    firstletter = polymer_template[0];lastletter = polymer_template[-1]\n",
    "    new_cont = dict()\n",
    "    for pair, count in polymer_counter.items():\n",
    "        new_cont[pair[0]] = count + new_cont.get(pair[0], 0)\n",
    "        new_cont[pair[1]] = count + new_cont.get(pair[1], 0)\n",
    "    new_cont[firstletter] -= 1\n",
    "    new_cont[lastletter] -= 1\n",
    "    return new_cont\n",
    "ct = Counter(pair_counter_to_single_counter(polymer_counter, polymer_template))\n",
    "first_ct = ct.most_common(1)[0]\n",
    "last_ct = ct.most_common()[-1]\n",
    "#first - last // 2\n",
    "print(ct)\n",
    "print((first_ct[1] - last_ct[1])//2+1)\n"
   ]
  }
 ],
 "metadata": {
  "interpreter": {
   "hash": "b4910490e8db04fe7e80d0b5f57d113d375880e58fcc8a202fc7742372d78c5d"
  },
  "kernelspec": {
   "display_name": "Python 3.7.3 64-bit",
   "language": "python",
   "name": "python3"
  },
  "language_info": {
   "codemirror_mode": {
    "name": "ipython",
    "version": 3
   },
   "file_extension": ".py",
   "mimetype": "text/x-python",
   "name": "python",
   "nbconvert_exporter": "python",
   "pygments_lexer": "ipython3",
   "version": "3.7.3"
  },
  "orig_nbformat": 4
 },
 "nbformat": 4,
 "nbformat_minor": 2
}
