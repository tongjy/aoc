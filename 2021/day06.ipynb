{
 "cells": [
  {
   "cell_type": "code",
   "execution_count": 1,
   "metadata": {},
   "outputs": [],
   "source": [
    "#read lines from day06.txt\n",
    "lines = [\"3,4,3,1,2\"]\n",
    "with open('day06.txt') as f:\n",
    "    lines = f.readlines()\n",
    "    #line = [\"3,4,3,1,2\"]\n",
    "\n",
    "#lines = [\"3,4,3,1,2\"]\n",
    "#group fish by number\n",
    "dic = {}\n",
    "day0 = list(map(int, lines[0].split(',')))\n",
    "for i in day0:\n",
    "    if i in dic:\n",
    "        dic[i] += 1\n",
    "    else:\n",
    "        dic[i] = 1\n",
    "\n",
    "\n",
    "def sum_of_values(dic):\n",
    "    sums = 0\n",
    "    for key in dic.keys():\n",
    "        sums += dic[key]\n",
    "    return sums"
   ]
  },
  {
   "cell_type": "code",
   "execution_count": 2,
   "metadata": {},
   "outputs": [
    {
     "name": "stdout",
     "output_type": "stream",
     "text": [
      "Days  79 :  362666\n"
     ]
    }
   ],
   "source": [
    "# Surely, each lanternfish creates a new lanternfish once every 7 days.\n",
    "# you can model each fish as a single number that represents the number of days until it creates a new lanternfish.\n",
    "# Furthermore, you reason, a new lanternfish would surely need slightly longer before it's capable of producing more lanternfish: two more days for its first cycle.\n",
    "# So, suppose you have a lanternfish with an internal timer value of 3:\n",
    "\n",
    "# After one day, its internal timer would become 2.\n",
    "# After another day, its internal timer would become 1.\n",
    "# After another day, its internal timer would become 0.\n",
    "# After another day, its internal timer would reset to 6, and it would create a new lanternfish with an internal timer of 8.\n",
    "# After another day, the first lanternfish would have an internal timer of 5, and the second lanternfish would have an internal timer of 7.\n",
    "# A lanternfish that creates a new fish resets its timer to 6, not 7 (because 0 is included as a valid timer value). The new lanternfish starts with an internal timer of 8 and does not start counting down until the next day.\n",
    "# Realizing what you're trying to do, the submarine automatically produces a list of the ages of several hundred nearby lanternfish (your puzzle input). For example, suppose you were given the following list:\n",
    "\n",
    "# 3,4,3,1,2\n",
    "\n",
    "# This list means that the first fish has an internal timer of 3, the second fish has an internal timer of 4, and so on until the fifth fish, which has an internal timer of 2. Simulating these fish over several days would proceed as follows:\n",
    "\n",
    "\n",
    "# Initial state: 3,4,3,1,2\n",
    "# After  1 day:  2,3,2,0,1\n",
    "# After  2 days: 1,2,1,6,0,8\n",
    "# After  3 days: 0,1,0,5,6,7,8\n",
    "# After  4 days: 6,0,6,4,5,6,7,8,8\n",
    "# After  5 days: 5,6,5,3,4,5,6,7,7,8\n",
    "# After  6 days: 4,5,4,2,3,4,5,6,6,7\n",
    "# After  7 days: 3,4,3,1,2,3,4,5,5,6\n",
    "# After  8 days: 2,3,2,0,1,2,3,4,4,5\n",
    "# After  9 days: 1,2,1,6,0,1,2,3,3,4,8\n",
    "# After 10 days: 0,1,0,5,6,0,1,2,2,3,7,8\n",
    "# After 11 days: 6,0,6,4,5,6,0,1,1,2,6,7,8,8,8\n",
    "# After 12 days: 5,6,5,3,4,5,6,0,0,1,5,6,7,7,7,8,8\n",
    "# After 13 days: 4,5,4,2,3,4,5,6,6,0,4,5,6,6,6,7,7,8,8\n",
    "# After 14 days: 3,4,3,1,2,3,4,5,5,6,3,4,5,5,5,6,6,7,7,8\n",
    "# After 15 days: 2,3,2,0,1,2,3,4,4,5,2,3,4,4,4,5,5,6,6,7\n",
    "# After 16 days: 1,2,1,6,0,1,2,3,3,4,1,2,3,3,3,4,4,5,5,6,8\n",
    "# After 17 days: 0,1,0,5,6,0,1,2,2,3,0,1,2,2,2,3,3,4,4,5,7,8\n",
    "# After 18 days: 6,0,6,4,5,6,0,1,1,2,6,0,1,1,1,2,2,3,3,4,6,7,8,8,8,8\n",
    "# Each day, a 0 becomes a 6 and adds a new 8 to the end of the list, while each other number decreases by 1 if it was present at the start of the day.\n",
    "def get_next_day_fishes_dic(fishes_dict):\n",
    "    next_day = {}\n",
    "    for key in fishes_dict.keys():\n",
    "        val = fishes_dict[key]\n",
    "        if key == 0:\n",
    "            next_day[6] = val + next_day.get(6, 0)\n",
    "            next_day[8] = val\n",
    "        else:\n",
    "            next_day[key - 1] = val + next_day.get(key-1, 0)\n",
    "    return next_day\n",
    "\n",
    "def get_next_day_fishes_list(fishes):\n",
    "    next_day = []\n",
    "    for fish in fishes:\n",
    "        if fish == 0:\n",
    "            next_day.append(6)\n",
    "            next_day.append(8)\n",
    "        else:\n",
    "            next_day.append(fish - 1)\n",
    "    return next_day\n",
    "#80 days\n",
    "#group fish by number\n",
    "dic1 = dic\n",
    "\n",
    "for i in range(80):\n",
    "    dic1 = get_next_day_fishes_dic(dic1)\n",
    "\n",
    "print('Days ', i+1, ': ', sum_of_values(dic1))\n"
   ]
  },
  {
   "cell_type": "code",
   "execution_count": 3,
   "metadata": {},
   "outputs": [
    {
     "name": "stdout",
     "output_type": "stream",
     "text": [
      "Days  256 :  1640526601595\n"
     ]
    }
   ],
   "source": [
    "# Suppose the lanternfish live forever and have unlimited food and space. Would they take over the entire ocean?\n",
    "\n",
    "# After 256 days in the example above, there would be a total of 26984457539 lanternfish!\n",
    "\n",
    "# How many lanternfish would there be after 256 days?\n",
    "dic2 = dic\n",
    "\n",
    "for i in range(256):\n",
    "    dic2 = get_next_day_fishes_dic(dic2)\n",
    "\n",
    "print('Days ', i+1, ': ', sum_of_values(dic2))\n"
   ]
  }
 ],
 "metadata": {
  "interpreter": {
   "hash": "b4910490e8db04fe7e80d0b5f57d113d375880e58fcc8a202fc7742372d78c5d"
  },
  "kernelspec": {
   "display_name": "Python 3.7.3 64-bit",
   "language": "python",
   "name": "python3"
  },
  "language_info": {
   "codemirror_mode": {
    "name": "ipython",
    "version": 3
   },
   "file_extension": ".py",
   "mimetype": "text/x-python",
   "name": "python",
   "nbconvert_exporter": "python",
   "pygments_lexer": "ipython3",
   "version": "3.7.3"
  },
  "orig_nbformat": 4
 },
 "nbformat": 4,
 "nbformat_minor": 2
}
