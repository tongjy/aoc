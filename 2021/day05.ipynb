{
 "cells": [
  {
   "cell_type": "code",
   "execution_count": 1,
   "metadata": {},
   "outputs": [],
   "source": [
    "#read lines of vent from day5.txt\n",
    "with open('day5.txt') as f:\n",
    "    lines = f.readlines()\n",
    "    lines = [line.strip() for line in lines]\n",
    "\n",
    "# lines = \"\"\"0,9 -> 5,9\n",
    "# 8,0 -> 0,8\n",
    "# 9,4 -> 3,4\n",
    "# 2,2 -> 2,1\n",
    "# 7,0 -> 7,4\n",
    "# 6,4 -> 2,0\n",
    "# 0,9 -> 2,9\n",
    "# 3,4 -> 1,4\n",
    "# 0,0 -> 8,8\n",
    "# 5,5 -> 8,2\"\"\".split('\\n')\n",
    "# lines = [line.strip() for line in lines]\n",
    "\n"
   ]
  },
  {
   "cell_type": "code",
   "execution_count": 2,
   "metadata": {},
   "outputs": [
    {
     "name": "stdout",
     "output_type": "stream",
     "text": [
      "986 989\n",
      "102372\n"
     ]
    }
   ],
   "source": [
    "# the submarine helpfully produces a list of nearby lines of vents (your puzzle input) for you to review. For example:\n",
    "\n",
    "# 0,9 -> 5,9\n",
    "# 8,0 -> 0,8\n",
    "# 9,4 -> 3,4\n",
    "# 2,2 -> 2,1\n",
    "# 7,0 -> 7,4\n",
    "# 6,4 -> 2,0\n",
    "# 0,9 -> 2,9\n",
    "# 3,4 -> 1,4\n",
    "# 0,0 -> 8,8\n",
    "# 5,5 -> 8,2\n",
    "\n",
    "# Each line of vents is given as a line segment in the format x1,y1 -> x2,y2 where x1,y1 are the coordinates of one end the line segment and x2,y2 are the coordinates of the other end. These line segments include the points at both ends. In other words:\n",
    "\n",
    "# An entry like 1,1 -> 1,3 covers points 1,1, 1,2, and 1,3.\n",
    "# An entry like 9,7 -> 7,7 covers points 9,7, 8,7, and 7,7.\n",
    "\n",
    "# For each line, get convers points and add them to a set.\n",
    "def get_convers_points(line):\n",
    "    x1, y1 = line.split('->')[0].split(',')\n",
    "    x2, y2 = line.split('->')[1].split(',')\n",
    "    convers_points = set()\n",
    "    if int(x1) == int(x2):\n",
    "        for y in range(min(int(y1), int(y2)), max(int(y1), int(y2)) + 1):\n",
    "            convers_points.add((int(x1), y))\n",
    "    if int(y1) == int(y2):\n",
    "        for x in range(min(int(x1), int(x2)), max(int(x1), int(x2)) + 1):\n",
    "            convers_points.add((x, int(y1)))\n",
    "    return convers_points\n",
    "\n",
    "convers_points = set()\n",
    "for line in lines:\n",
    "    cps = get_convers_points(line)\n",
    "    convers_points = convers_points.union(cps)\n",
    "\n",
    "# max x of convers points\n",
    "maxx = max(convers_points, key=lambda x: x[0])[0]\n",
    "#get max y of convers points\n",
    "maxy = max(convers_points, key=lambda x: x[1])[1]\n",
    "print(maxx, maxy)\n",
    "print(len(convers_points))\n",
    "\n"
   ]
  },
  {
   "cell_type": "code",
   "execution_count": 8,
   "metadata": {},
   "outputs": [
    {
     "name": "stdout",
     "output_type": "stream",
     "text": [
      "{(7, 7), (8, 7), (9, 7)}\n"
     ]
    }
   ],
   "source": [
    "# For now, only consider horizontal and vertical lines: lines where either x1 = x2 or y1 = y2.\n",
    "\n",
    "# So, the horizontal and vertical lines from the above list would produce the following diagram:\n",
    "\n",
    "# .......1..\n",
    "# ..1....1..\n",
    "# ..1....1..\n",
    "# .......1..\n",
    "# .112111211\n",
    "# ..........\n",
    "# ..........\n",
    "# ..........\n",
    "# ..........\n",
    "# 222111....\n",
    "# In this diagram, the top left corner is 0,0 and the bottom right corner is 9,9. Each position is shown as the number of lines which cover that point or . if no line covers that point. The top-left pair of 1s, for example, comes from 2,2 -> 2,1; the very bottom row is formed by the overlapping lines 0,9 -> 5,9 and 0,9 -> 2,9.\n",
    "\n",
    "# To avoid the most dangerous areas, you need to determine the number of points where at least two lines overlap. In the above example, this is anywhere in the diagram with a 2 or larger - a total of 5 points.\n",
    "\n",
    "# Consider only horizontal and vertical lines. At how many points do at least two lines overlap?"
   ]
  },
  {
   "cell_type": "code",
   "execution_count": 3,
   "metadata": {},
   "outputs": [
    {
     "name": "stdout",
     "output_type": "stream",
     "text": [
      "5698\n"
     ]
    }
   ],
   "source": [
    "def get_count_map(lines):\n",
    "# Consider only horizontal and vertical lines.\n",
    "# At how many points do at least two lines overlap?\n",
    "    count_map = {}\n",
    "    for line in lines:\n",
    "        x1, y1 = line.split('->')[0].split(',')\n",
    "        x2, y2 = line.split('->')[1].split(',')\n",
    "        if int(x1) == int(x2):\n",
    "            for y in range(min(int(y1), int(y2)), max(int(y1), int(y2)) + 1):\n",
    "                count_map[(int(x1), y)] = count_map.get((int(x1), y), 0) + 1\n",
    "        if int(y1) == int(y2):\n",
    "            for x in range(min(int(x1), int(x2)), max(int(x1), int(x2)) + 1):\n",
    "                count_map[(x, int(y1))] = count_map.get((x, int(y1)), 0) + 1\n",
    "    return count_map\n",
    "\n",
    "count_map = get_count_map(lines)\n",
    "\n",
    "\n",
    "def print_count_map(count_map):\n",
    "    for y in range(maxy+1):\n",
    "        for x in range(maxx+1):\n",
    "            print(count_map.get((x, y), '.'), end='')\n",
    "        print()\n",
    "# the number of points where at least two lines overlap. In the above example, this is anywhere in the diagram with a 2 or larger - a total of 5 points.\n",
    "def get_number_of_points_with_two_or_more_lines(count_map):\n",
    "    number_of_points_with_two_or_more_lines = 0\n",
    "    for key, value in count_map.items():\n",
    "        if value >= 2:\n",
    "            number_of_points_with_two_or_more_lines += 1\n",
    "    return number_of_points_with_two_or_more_lines\n",
    "\n",
    "print(get_number_of_points_with_two_or_more_lines(count_map))\n"
   ]
  },
  {
   "cell_type": "code",
   "execution_count": 4,
   "metadata": {},
   "outputs": [
    {
     "name": "stdout",
     "output_type": "stream",
     "text": [
      "15463\n"
     ]
    }
   ],
   "source": [
    "#Unfortunately, considering only horizontal and vertical lines doesn't give you the full picture; you need to also consider diagonal lines.\n",
    "\n",
    "# Because of the limits of the hydrothermal vent mapping system, the lines in your list will only ever be horizontal, vertical, or a diagonal line at exactly 45 degrees. In other words:\n",
    "\n",
    "# An entry like 1,1 -> 3,3 covers points 1,1, 2,2, and 3,3.\n",
    "# An entry like 9,7 -> 7,9 covers points 9,7, 8,8, and 7,9.\n",
    "def get_diagonal_lines(lines):\n",
    "    diagonal_lines = []\n",
    "    for line in lines:\n",
    "        x1, y1 = line.split('->')[0].split(',')\n",
    "        x2, y2 = line.split('->')[1].split(',')\n",
    "        if abs(int(x1) - int(x2)) == abs(int(y1) - int(y2)) and int(x1) != int(x2) and int(y1) != int(y2):\n",
    "            diagonal_lines.append(line)\n",
    "    return diagonal_lines\n",
    "\n",
    "diagonal_lines = get_diagonal_lines(lines)\n",
    "def add_diagonal_lines(count_map, diagonal_lines):\n",
    "    for line in diagonal_lines:\n",
    "        x1, y1 = line.split('->')[0].split(',')\n",
    "        x2, y2 = line.split('->')[1].split(',')\n",
    "        # a 45 degree line is a diagonal line\n",
    "        # get a direction list from x1 to x2\n",
    "        listx = range(int(x1), int(x2) + 1) if int(x1) < int(x2) else range(int(x1), int(x2) - 1, -1)\n",
    "        # get a direction list from y1 to y2\n",
    "        listy = range(int(y1), int(y2) + 1) if int(y1) < int(y2) else range(int(y1), int(y2) - 1, -1)        \n",
    "        for x,y in zip(listx, listy):\n",
    "            count_map[(x, y)] = count_map.get((x, y), 0) + 1\n",
    "    return count_map\n",
    "\n",
    "count_map = add_diagonal_lines(count_map, diagonal_lines)\n",
    "\n",
    "print(get_number_of_points_with_two_or_more_lines(count_map))\n"
   ]
  }
 ],
 "metadata": {
  "interpreter": {
   "hash": "b4910490e8db04fe7e80d0b5f57d113d375880e58fcc8a202fc7742372d78c5d"
  },
  "kernelspec": {
   "display_name": "Python 3",
   "language": "python",
   "name": "python3"
  },
  "language_info": {
   "codemirror_mode": {
    "name": "ipython",
    "version": 3
   },
   "file_extension": ".py",
   "mimetype": "text/x-python",
   "name": "python",
   "nbconvert_exporter": "python",
   "pygments_lexer": "ipython3",
   "version": "3.7.3"
  }
 },
 "nbformat": 4,
 "nbformat_minor": 4
}
