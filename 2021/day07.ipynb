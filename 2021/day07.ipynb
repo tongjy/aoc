{
 "cells": [
  {
   "cell_type": "code",
   "execution_count": 34,
   "metadata": {},
   "outputs": [],
   "source": [
    "# read first line from day07.txt,then split it to int\n",
    "with open('day07.txt', 'r') as f:\n",
    "    line = f.readline()\n",
    "    line = line.split(',')\n",
    "    line = [int(i) for i in line]\n",
    "line1 = [16,1,2,0,4,2,7,1,2,14]"
   ]
  },
  {
   "cell_type": "code",
   "execution_count": 38,
   "metadata": {},
   "outputs": [
    {
     "name": "stdout",
     "output_type": "stream",
     "text": [
      "347011\n",
      "98363777.0\n"
     ]
    }
   ],
   "source": [
    "# There's one major catch - crab submarines can only move horizontally.\n",
    "\n",
    "# You quickly make a list of the horizontal position of each crab (your puzzle input). Crab submarines have limited fuel, so you need to find a way to make all of their horizontal positions match while requiring them to spend as little fuel as possible.\n",
    "\n",
    "# For example, consider the following horizontal positions:\n",
    "\n",
    "# 16,1,2,0,4,2,7,1,2,14\n",
    "# This means there's a crab with horizontal position 16, a crab with horizontal position 1, and so on.\n",
    "\n",
    "# Each change of 1 step in horizontal position of a single crab costs 1 fuel. You could choose any horizontal position to align them all on, but the one that costs the least fuel is horizontal position 2:\n",
    "\n",
    "# Move from 16 to 2: 14 fuel\n",
    "# Move from 1 to 2: 1 fuel\n",
    "# Move from 2 to 2: 0 fuel\n",
    "# Move from 0 to 2: 2 fuel\n",
    "# Move from 4 to 2: 2 fuel\n",
    "# Move from 2 to 2: 0 fuel\n",
    "# Move from 7 to 2: 5 fuel\n",
    "# Move from 1 to 2: 1 fuel\n",
    "# Move from 2 to 2: 0 fuel\n",
    "# Move from 14 to 2: 12 fuel\n",
    "# This costs a total of 37 fuel. This is the cheapest possible outcome; more expensive outcomes include aligning at position 1 (41 fuel), position 3 (39 fuel), or position 10 (71 fuel).\n",
    "\n",
    "# Determine the horizontal position that the crabs can align to using the least fuel possible. How much fuel must they spend to align to that position?\n",
    "\n",
    "def get_fule(pos, line):\n",
    "    fule = 0\n",
    "    for i in range(len(line)):\n",
    "        if line[i] < pos:\n",
    "            fule += pos - line[i]\n",
    "        else:\n",
    "            fule += line[i] - pos\n",
    "    return fule\n",
    "# find the min fule\n",
    "min_fule = get_fule(0, line)\n",
    "for l in range(1, max(line)+1):\n",
    "    fule = get_fule(l, line)\n",
    "    if fule < min_fule:\n",
    "        min_fule = fule\n",
    "print(min_fule)\n",
    "\n",
    "# The crabs don't seem interested in your proposed solution. Perhaps you misunderstand crab engineering?\n",
    "\n",
    "# As it turns out, crab submarine engines don't burn fuel at a constant rate. Instead, each change of 1 step in horizontal position costs 1 more unit of fuel than the last: the first step costs 1, the second step costs 2, the third step costs 3, and so on.\n",
    "\n",
    "# As each crab moves, moving further becomes more expensive. This changes the best horizontal position to align them all on; in the example above, this becomes 5:\n",
    "\n",
    "# Move from 16 to 5: 66 fuel\n",
    "# Move from 1 to 5: 10 fuel\n",
    "# Move from 2 to 5: 6 fuel\n",
    "# Move from 0 to 5: 15 fuel\n",
    "# Move from 4 to 5: 1 fuel\n",
    "# Move from 2 to 5: 6 fuel\n",
    "# Move from 7 to 5: 3 fuel\n",
    "# Move from 1 to 5: 10 fuel\n",
    "# Move from 2 to 5: 6 fuel\n",
    "# Move from 14 to 5: 45 fuel\n",
    "# This costs a total of 168 fuel. This is the new cheapest possible outcome; the old alignment position (2) now costs 206 fuel instead.\n",
    "\n",
    "# Determine the horizontal position that the crabs can align to using the least fuel possible so they can make you an escape route! How much fuel must they spend to align to that position?\n",
    "\n",
    "# plus 1,2,3...to move\n",
    "get_moves_fule = lambda move : move*(move+1)/2\n",
    "\n",
    "\n",
    "def get_expensive_fule(pos, line):\n",
    "    fule = 0\n",
    "    for i in range(len(line)):\n",
    "        if line[i] < pos:\n",
    "            fule += get_moves_fule(pos - line[i])\n",
    "        else:\n",
    "            fule += get_moves_fule(line[i] - pos)\n",
    "    return fule\n",
    "# find the min expensive fule\n",
    "e_fule = get_expensive_fule(0,line)\n",
    "for l in range(1, max(line)+1):\n",
    "    fule = get_expensive_fule(l, line)\n",
    "    if fule < e_fule:\n",
    "        e_fule = fule\n",
    "print(e_fule)\n",
    "\n"
   ]
  },
  {
   "cell_type": "code",
   "execution_count": 30,
   "metadata": {},
   "outputs": [
    {
     "name": "stdout",
     "output_type": "stream",
     "text": [
      "Value: 311 347011\n"
     ]
    }
   ],
   "source": [
    "from cpmpy import *\n",
    "import numpy as np\n",
    "\n",
    "demands = np.array(line)\n",
    "slots = len(demands)\n",
    "\n",
    "y = intvar(0,max(demands))\n",
    "x = intvar(0,max(demands), shape=slots, name=\"x\")\n",
    "for i in range(slots): x[i] = abs(y-demands[i])\n",
    "model = Model()\n",
    "model.minimize(sum(x))\n",
    "model.solve()\n",
    "print(\"Value:\", y.value(), sum(x.value())) # solve returns objective value"
   ]
  },
  {
   "cell_type": "code",
   "execution_count": 17,
   "metadata": {},
   "outputs": [
    {
     "name": "stdout",
     "output_type": "stream",
     "text": [
      "Value: 464 98363777.0\n"
     ]
    }
   ],
   "source": [
    "from cpmpy import *\n",
    "import numpy as np\n",
    "demands = np.array(line)\n",
    "slots = len(demands)\n",
    "y = intvar(0,max(demands))\n",
    "x = list(range(slots))\n",
    "x = intvar(0,max(demands*demands), shape=slots, name=\"x\")\n",
    "for i in range(slots): x[i] = (abs(y-demands[i])+1)*abs(y-demands[i]) / 2\n",
    "model = Model()\n",
    "model.minimize(sum(x))\n",
    "model.solve()\n",
    "print(\"Value:\", y.value(), sum(x).value()) # solve returns objective value\n",
    "\n"
   ]
  }
 ],
 "metadata": {
  "interpreter": {
   "hash": "b4910490e8db04fe7e80d0b5f57d113d375880e58fcc8a202fc7742372d78c5d"
  },
  "kernelspec": {
   "display_name": "Python 3.7.3 64-bit",
   "language": "python",
   "name": "python3"
  },
  "language_info": {
   "codemirror_mode": {
    "name": "ipython",
    "version": 3
   },
   "file_extension": ".py",
   "mimetype": "text/x-python",
   "name": "python",
   "nbconvert_exporter": "python",
   "pygments_lexer": "ipython3",
   "version": "3.7.3"
  },
  "orig_nbformat": 4
 },
 "nbformat": 4,
 "nbformat_minor": 2
}
