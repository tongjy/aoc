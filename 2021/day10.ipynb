{
 "cells": [
  {
   "cell_type": "code",
   "execution_count": 51,
   "metadata": {},
   "outputs": [],
   "source": [
    "# read all input from day10.txt,split to lines\n",
    "with open('day10.txt', 'r') as f:\n",
    "    lines = f.read().splitlines()\n",
    "    \n",
    "# lines = \"\"\"[({(<(())[]>[[{[]{<()<>>\n",
    "# [(()[<>])]({[<{<<[]>>(\n",
    "# {([(<{}[<>[]}>{[]{[(<()>\n",
    "# (((({<>}<{<{<>}{[]{[]{}\n",
    "# [[<[([]))<([[{}[[()]]]\n",
    "# [{[{({}]{}}([{[{{{}}([]\n",
    "# {<[[]]>}<{[{[{[]{()[[[]\n",
    "# [<(<(<(<{}))><([]([]()\n",
    "# <{([([[(<>()){}]>(<<{{\n",
    "# <{([{{}}[<[[[<>{}]]]>[]]\"\"\".splitlines()"
   ]
  },
  {
   "cell_type": "code",
   "execution_count": 52,
   "metadata": {},
   "outputs": [
    {
     "name": "stdout",
     "output_type": "stream",
     "text": [
      "265527\n"
     ]
    }
   ],
   "source": [
    "# The navigation subsystem syntax is made of several lines containing chunks. There are one or more chunks on each line, and chunks contain zero or more other chunks. Adjacent chunks are not separated by any delimiter; if one chunk stops, the next chunk (if any) can immediately start. Every chunk must open and close with one of four legal pairs of matching characters:\n",
    "\n",
    "# If a chunk opens with (, it must close with ).\n",
    "# If a chunk opens with [, it must close with ].\n",
    "# If a chunk opens with {, it must close with }.\n",
    "# If a chunk opens with <, it must close with >.\n",
    "# So, () is a legal chunk that contains no other chunks, as is []. More complex but valid chunks include ([]), {()()()}, <([{}])>, [<>({}){}[([])<>]], and even (((((((((()))))))))).\n",
    "\n",
    "# Some lines are incomplete, but others are corrupted. Find and discard the corrupted lines first.\n",
    "\n",
    "# A corrupted line is one where a chunk closes with the wrong character - that is, where the characters it opens and closes with do not form one of the four legal pairs listed above.\n",
    "\n",
    "# Examples of corrupted chunks include (], {()()()>, (((()))}, and <([]){()}[{}]). Such a chunk can appear anywhere within a line, and its presence causes the whole line to be considered corrupted.\n",
    "\n",
    "def if_corrupted(line):\n",
    "    \"\"\"\n",
    "    check if line is corrupted\n",
    "    \"\"\"\n",
    "    # check if line is corrupted\n",
    "    # if line is corrupted, return True\n",
    "    # else return False\n",
    "    stack = []\n",
    "    for i,l in  enumerate(line):\n",
    "        if l in ['(', '[', '{', '<']:\n",
    "            #push l to stack\n",
    "            stack.append(l)\n",
    "        elif l in [')', ']', '}', '>']:\n",
    "            if len(stack) == 0:\n",
    "                return True,i,l\n",
    "            lp = stack.pop()               \n",
    "            if lp+l in ['()', '[]', '{}', '<>']:\n",
    "                continue\n",
    "            else:\n",
    "                return True,i,l\n",
    "    # incomplete line\n",
    "    if len(stack) == 0:\n",
    "        return False,0,0\n",
    "    else:\n",
    "        return False, len(stack),stack\n",
    "# Did you know that syntax checkers actually have contests to see who can get the high score for syntax errors in a file? It's true! To calculate the syntax error score for a line, take the first illegal character on the line and look it up in the following table:\n",
    "\n",
    "# ): 3 points.\n",
    "# ]: 57 points.\n",
    "# }: 1197 points.\n",
    "# >: 25137 points.\n",
    "# In the above example, an illegal ) was found twice (2*3 = 6 points), an illegal ] was found once (57 points), an illegal } was found once (1197 points), and an illegal > was found once (25137 points). So, the total syntax error score for this file is 6+57+1197+25137 = 26397 points!\n",
    "\n",
    "# Find the first illegal character in each corrupted line of the navigation subsystem. What is the total syntax error score for those errors?\n",
    "points = []\n",
    "ptable = {'(':3, ')':3, '[':57, ']':57, '{':1197, '}':1197, '<':25137, '>':25137}\n",
    "incomplete = []\n",
    "for i,line in enumerate(lines):\n",
    "    r,ind,c = if_corrupted(line)\n",
    "    if r:\n",
    "        points.append(ptable[c])\n",
    "        # print(i,r,ind,c,line)\n",
    "    else:\n",
    "        incomplete.append(reversed(c))\n",
    "\n",
    "print(sum(points))"
   ]
  },
  {
   "cell_type": "code",
   "execution_count": 53,
   "metadata": {},
   "outputs": [
    {
     "name": "stdout",
     "output_type": "stream",
     "text": [
      "3969823589\n"
     ]
    }
   ],
   "source": [
    "# Now, discard the corrupted lines. The remaining lines are incomplete.\n",
    "\n",
    "# Incomplete lines don't have any incorrect characters - instead, they're missing some closing characters at the end of the line. To repair the navigation subsystem, you just need to figure out the sequence of closing characters that complete all open chunks in the line.\n",
    "\n",
    "# You can only use closing characters (), ], }, or >), and you must add them in the correct order so that only legal pairs are formed and all chunks end up closed.\n",
    "\n",
    "# In the example above, there are five incomplete lines:\n",
    "\n",
    "# [({(<(())[]>[[{[]{<()<>> - Complete by adding }}]])})].\n",
    "# [(()[<>])]({[<{<<[]>>( - Complete by adding )}>]}).\n",
    "# (((({<>}<{<{<>}{[]{[]{} - Complete by adding }}>}>)))).\n",
    "# {<[[]]>}<{[{[{[]{()[[[] - Complete by adding ]]}}]}]}>.\n",
    "# <{([{{}}[<[[[<>{}]]]>[]] - Complete by adding ])}>.\n",
    "# Did you know that autocomplete tools also have contests? It's true! The score is determined by considering the completion string character-by-character. Start with a total score of 0. Then, for each character, multiply the total score by 5 and then increase the total score by the point value given for the character in the following table:\n",
    "\n",
    "# ): 1 point.\n",
    "# ]: 2 points.\n",
    "# }: 3 points.\n",
    "# >: 4 points.\n",
    "# So, the last completion string above - ])}> - would be scored as follows:\n",
    "\n",
    "# Start with a total score of 0.\n",
    "# Multiply the total score by 5 to get 0, then add the value of ] (2) to get a new total score of 2.\n",
    "# Multiply the total score by 5 to get 10, then add the value of ) (1) to get a new total score of 11.\n",
    "# Multiply the total score by 5 to get 55, then add the value of } (3) to get a new total score of 58.\n",
    "# Multiply the total score by 5 to get 290, then add the value of > (4) to get a new total score of 294.\n",
    "# The five lines' completion strings have total scores as follows:\n",
    "\n",
    "# }}]])})] - 288957 total points.\n",
    "# )}>]}) - 5566 total points.\n",
    "# }}>}>)))) - 1480781 total points.\n",
    "# ]]}}]}]}> - 995444 total points.\n",
    "# ])}> - 294 total points.\n",
    "# Autocomplete tools are an odd bunch: the winner is found by sorting all of the scores and then taking the middle score. (There will always be an odd number of scores to consider.) In this example, the middle score is 288957 because there are the same number of scores smaller and larger than it.\n",
    "\n",
    "# Find the completion string for each incomplete line, score the completion strings, and sort the scores. What is the middle score?\n",
    "import functools as fts\n",
    "point_table = {'(':1, ')':1, '[':2, ']':2, '{':3, '}':3, '<':4, '>':4}\n",
    "score_func = lambda x,y: x*5+sum([point_table[i] for i in y])\n",
    "#scores= [x for x in map(score_func,incomplete)]\n",
    "# fts.reduce(score_func, reversed('}}]])})]'),0)\n",
    "scores = []\n",
    "for line in incomplete:\n",
    "    scores.append(fts.reduce(score_func,line,0))\n",
    "scores.sort()\n",
    "print(scores[len(scores)//2])\n"
   ]
  }
 ],
 "metadata": {
  "interpreter": {
   "hash": "b4910490e8db04fe7e80d0b5f57d113d375880e58fcc8a202fc7742372d78c5d"
  },
  "kernelspec": {
   "display_name": "Python 3.7.3 64-bit",
   "language": "python",
   "name": "python3"
  },
  "language_info": {
   "codemirror_mode": {
    "name": "ipython",
    "version": 3
   },
   "file_extension": ".py",
   "mimetype": "text/x-python",
   "name": "python",
   "nbconvert_exporter": "python",
   "pygments_lexer": "ipython3",
   "version": "3.7.3"
  },
  "orig_nbformat": 4
 },
 "nbformat": 4,
 "nbformat_minor": 2
}
