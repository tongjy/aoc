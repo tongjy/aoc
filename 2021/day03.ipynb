{
 "cells": [
  {
   "cell_type": "code",
   "execution_count": 1,
   "metadata": {},
   "outputs": [],
   "source": [
    "#read striped lines from day3.txt\n",
    "with open('day3.txt', 'r') as f:\n",
    "    lines = f.readlines()\n",
    "    lines = [line.strip() for line in lines]\n",
    "\n"
   ]
  },
  {
   "cell_type": "code",
   "execution_count": 37,
   "metadata": {},
   "outputs": [
    {
     "name": "stdout",
     "output_type": "stream",
     "text": [
      "845186\n"
     ]
    }
   ],
   "source": [
    "# The diagnostic report (your puzzle input) consists of a list of binary numbers which, when decoded properly, can tell you many useful things about the conditions of the submarine. The first parameter to check is the power consumption.\n",
    "\n",
    "# You need to use the binary numbers in the diagnostic report to generate two new binary numbers (called the gamma rate and the epsilon rate). The power consumption can then be found by multiplying the gamma rate by the epsilon rate.\n",
    "\n",
    "# Each bit in the gamma rate can be determined by finding the most common bit in the corresponding position of all numbers in the diagnostic report. For example, given the following diagnostic report:\n",
    "\n",
    "# 00100\n",
    "# 11110\n",
    "# 10110\n",
    "# 10111\n",
    "# 10101\n",
    "# 01111\n",
    "# 00111\n",
    "# 11100\n",
    "# 10000\n",
    "# 11001\n",
    "# 00010\n",
    "# 01010\n",
    "# Considering only the first bit of each number, there are five 0 bits and seven 1 bits. Since the most common bit is 1, the first bit of the gamma rate is 1.\n",
    "\n",
    "# The most common second bit of the numbers in the diagnostic report is 0, so the second bit of the gamma rate is 0.\n",
    "\n",
    "# The most common value of the third, fourth, and fifth bits are 1, 1, and 0, respectively, and so the final three bits of the gamma rate are 110.\n",
    "\n",
    "# So, the gamma rate is the binary number 10110, or 22 in decimal.\n",
    "\n",
    "# The epsilon rate is calculated in a similar way; rather than use the most common bit, the least common bit from each position is used. So, the epsilon rate is 01001, or 9 in decimal. Multiplying the gamma rate (22) by the epsilon rate (9) produces the power consumption, 198.\n",
    "\n",
    "# Use the binary numbers in your diagnostic report to calculate the gamma rate and epsilon rate, then multiply them together. What is the power consumption of the submarine? (Be sure to represent your answer in decimal, not binary.)\n",
    "def get_x_bits_of_lines(lines, x):\n",
    "    return [line[x] for line in lines]\n",
    "\n",
    "def count_bits(bits):\n",
    "    return {'0': bits.count('0'), '1': bits.count('1')}\n",
    "\n",
    "def get_most_common_bit(bits):\n",
    "    if 1==len(bits): return bits[0] #stop\n",
    "    c_bits = count_bits(bits)\n",
    "    maxb = max(c_bits.items(), key=lambda x: x[1])[0]\n",
    "    return maxb if c_bits['0'] != c_bits['1']  else '1'\n",
    "\n",
    "def get_gamma_rate(lines):\n",
    "    gamma_rate = []\n",
    "    for i in range(0, len(lines[0].strip())):\n",
    "        gamma_rate.append(  get_most_common_bit(get_x_bits_of_lines(lines, i)) )\n",
    "    return ''.join(gamma_rate)\n",
    "\n",
    "def get_revers_0_1_string(str01):\n",
    "    return ''.join(['1' if c == '0' else '0' for c in str01])\n",
    "\n",
    "gamma_rate = get_gamma_rate(lines)\n",
    "epsilon_rate = get_revers_0_1_string(gamma_rate)\n",
    "power_consumption = int(gamma_rate, 2) * int(epsilon_rate, 2)\n",
    "print(power_consumption)\n"
   ]
  },
  {
   "cell_type": "code",
   "execution_count": 39,
   "metadata": {},
   "outputs": [
    {
     "name": "stdout",
     "output_type": "stream",
     "text": [
      "010110110011 1459\n",
      "110001101010 3178\n",
      "4636702\n"
     ]
    }
   ],
   "source": [
    "# Start with all 12 numbers and consider only the first bit of each number. There are more 1 bits (7) than 0 bits (5), so keep only the 7 numbers with a 1 in the first position: 11110, 10110, 10111, 10101, 11100, 10000, and 11001.\n",
    "# Then, consider the second bit of the 7 remaining numbers: there are more 0 bits (4) than 1 bits (3), so keep only the 4 numbers with a 0 in the second position: 10110, 10111, 10101, and 10000.\n",
    "# In the third position, three of the four numbers have a 1, so keep those three: 10110, 10111, and 10101.\n",
    "# In the fourth position, two of the three numbers have a 1, so keep those two: 10110 and 10111.\n",
    "# In the fifth position, there are an equal number of 0 bits and 1 bits (one each). So, to find the oxygen generator rating, keep the number with a 1 in that position: 10111.\n",
    "# As there is only one number left, stop; the oxygen generator rating is 10111, or 23 in decimal.\n",
    "def get_lines_with_bit_in_position(lines, bit, position):\n",
    "    if len(lines) == 1: return lines\n",
    "    return [line for line in lines if line[position] == bit]\n",
    "\n",
    "def get_less_common_bit(bits):\n",
    "    if 1==len(bits): return bits[0] #stop\n",
    "    c_bits = count_bits(bits)\n",
    "    minb = min(c_bits.items(), key=lambda x: x[1])[0]\n",
    "    return minb if c_bits['0'] != c_bits['1']  else '0'\n",
    "\n",
    "def get_oxygen_generator_rating(lines):\n",
    "    o_rate = []\n",
    "    # first common bit\n",
    "    for i in range(len(lines[0].strip())):\n",
    "        c = get_most_common_bit(get_x_bits_of_lines(lines, i))\n",
    "        o_rate.append( c )\n",
    "        lines = get_lines_with_bit_in_position(lines, c, i)\n",
    "    return ''.join(o_rate)\n",
    "\n",
    "print(get_oxygen_generator_rating(lines), int(get_oxygen_generator_rating(lines), 2))\n",
    "# Then, to determine the CO2 scrubber rating value from the same example above:\n",
    "\n",
    "# Start again with all 12 numbers and consider only the first bit of each number. There are fewer 0 bits (5) than 1 bits (7), so keep only the 5 numbers with a 0 in the first position: 00100, 01111, 00111, 00010, and 01010.\n",
    "# Then, consider the second bit of the 5 remaining numbers: there are fewer 1 bits (2) than 0 bits (3), so keep only the 2 numbers with a 1 in the second position: 01111 and 01010.\n",
    "# In the third position, there are an equal number of 0 bits and 1 bits (one each). So, to find the CO2 scrubber rating, keep the number with a 0 in that position: 01010.\n",
    "# As there is only one number left, stop; the CO2 scrubber rating is 01010, or 10 in decimal.\n",
    "# Finally, to find the life support rating, multiply the oxygen generator rating (23) by the CO2 scrubber rating (10) to get 230.\n",
    "\n",
    "# Use the binary numbers in your diagnostic report to calculate the oxygen generator rating and CO2 scrubber rating, then multiply them together. What is the life support rating of the submarine? (Be sure to represent your answer in decimal, not binary.)\n",
    "def get_CO2_scrubber_rating(lines):\n",
    "    CO2_scrubber_rating = []\n",
    "    for i in range(len(lines[0].strip())):\n",
    "        c = get_less_common_bit(get_x_bits_of_lines(lines, i))\n",
    "        CO2_scrubber_rating.append( c )\n",
    "        lines = get_lines_with_bit_in_position(lines, c, i)\n",
    "    return ''.join(CO2_scrubber_rating)\n",
    "\n",
    "print(get_CO2_scrubber_rating(lines), int(get_CO2_scrubber_rating(lines),2))\n",
    "\n",
    "print(int(get_oxygen_generator_rating(lines), 2) * int(get_CO2_scrubber_rating(lines), 2))"
   ]
  }
 ],
 "metadata": {
  "interpreter": {
   "hash": "b4910490e8db04fe7e80d0b5f57d113d375880e58fcc8a202fc7742372d78c5d"
  },
  "kernelspec": {
   "display_name": "Python 3.7.3 64-bit",
   "language": "python",
   "name": "python3"
  },
  "language_info": {
   "codemirror_mode": {
    "name": "ipython",
    "version": 3
   },
   "file_extension": ".py",
   "mimetype": "text/x-python",
   "name": "python",
   "nbconvert_exporter": "python",
   "pygments_lexer": "ipython3",
   "version": "3.7.3"
  },
  "orig_nbformat": 4
 },
 "nbformat": 4,
 "nbformat_minor": 2
}
